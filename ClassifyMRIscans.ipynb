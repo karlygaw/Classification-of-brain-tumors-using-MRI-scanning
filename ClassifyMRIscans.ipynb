{
 "cells": [
  {
   "cell_type": "markdown",
   "metadata": {},
   "source": [
    "## Final Project for \"📸👁️Introduction to Computer Vision\" - Классификация опухолей головного мозга с помощью МРТ(Магнитно-резонансная томография)-сканирования"
   ]
  },
  {
   "cell_type": "markdown",
   "metadata": {},
   "source": [
    "### 0. 📥 Imports"
   ]
  },
  {
   "cell_type": "code",
   "execution_count": 2,
   "metadata": {},
   "outputs": [],
   "source": [
    "# Importing necessary libraries\n",
    "from kaggle.api.kaggle_api_extended import KaggleApi\n",
    "import os\n",
    "import tensorflow as tf\n",
    "from tensorflow import keras\n",
    "import PIL\n",
    "import pathlib\n",
    "import PIL.Image\n",
    "import warnings\n",
    "from datetime import datetime\n",
    "import random\n",
    "from pathlib import Path\n",
    "# Импортируем необходимые библиотеки\n",
    "from tensorflow.keras.preprocessing.image import ImageDataGenerator\n",
    "from tensorflow.keras import Model\n",
    "from tensorflow.keras.layers import (\n",
    "    Input,\n",
    "    Conv2D, \n",
    "    BatchNormalization, \n",
    "    Activation, \n",
    "    MaxPooling2D, \n",
    "    Dense, \n",
    "    GlobalAveragePooling2D, \n",
    "    Add,\n",
    ")\n",
    "\n",
    "# Disable warnings for cleaner output\n",
    "warnings.filterwarnings(\"ignore\")\n"
   ]
  },
  {
   "cell_type": "markdown",
   "metadata": {},
   "source": [
    "### 1. 📊 Dataset Selection:"
   ]
  },
  {
   "cell_type": "markdown",
   "metadata": {},
   "source": [
    "### **Обзор набора данных** \n",
    "\n",
    "Всего **7023 МРТ-сканов мозга**, разделенных на четыре класса.\n",
    "1. **Glioma - Глиома**: 1,621 изображения {./dataset/glioma} \n",
    "2. **Healthy - Здоровый**: 2,000 изображения {./dataset/healthy}\n",
    "3. **Meningioma - Менингиома**: 1,645 изображения {./dataset/meningioma} \n",
    "4. **Pituitary - Гипофиз**: 1,757 изображения {./dataset/pituitary}\n",
    "\n",
    "Каждое изображение **изображение RGB размером 224x224 пикселей**, что обеспечивает достаточное разрешение для извлечения признаков с использованием методов глубокого обучения.\n",
    " \n",
    "Для классификации этих изображений можно использовать трансферное обучение и сверточные нейронные сети, что может спасти жизни пациентов благодаря ранней диагностике опухолей.\n",
    "\n",
    "Мой выбор попал на датасет из Кагл - так как я могу демонстрировать свои знания и могу работать так и классификации и сегментацией опухулей что возможно будет и для меня и для других полезным. Классифицируйте результаты МРТ как глиому, менингиому, гипофиз или здоровые."
   ]
  },
  {
   "cell_type": "code",
   "execution_count": null,
   "metadata": {},
   "outputs": [],
   "source": [
    "# аутентификация с токеном - расположенный на пути C:\\Users\\Qarlygash\\.kaggle\\kaggle.json\n",
    "api = KaggleApi()\n",
    "api.authenticate()\n",
    "\n",
    "# Download the dataset\n",
    "api.dataset_download_files(\"rm1000/brain-tumor-mri-scans\", path=\"./dataset\", unzip=True)"
   ]
  },
  {
   "cell_type": "code",
   "execution_count": 3,
   "metadata": {},
   "outputs": [
    {
     "name": "stdout",
     "output_type": "stream",
     "text": [
      "Glioma: 1621 images\n",
      "Healthy: 2000 images\n",
      "Meningioma: 1645 images\n",
      "Pituitary: 1757 images\n"
     ]
    }
   ],
   "source": [
    "dataset_path = \"./dataset\"\n",
    "classes = [\"glioma\", \"healthy\", \"meningioma\", \"pituitary\"]\n",
    "\n",
    "for cls in classes:\n",
    "    class_path = os.path.join(dataset_path, cls)\n",
    "    num_images = len(os.listdir(class_path))\n",
    "    print(f\"{cls.capitalize()}: {num_images} images\")\n"
   ]
  },
  {
   "cell_type": "markdown",
   "metadata": {},
   "source": [
    "### **🎯 Objective**\n",
    "\n",
    "The primary objective of this project is to leverage **Convolutional Neural Networks (CNNs)** to develop a robust model capable of:  \n",
    "1. **🔍 Classifying Brain MRI Scans** into one of four categories: Glioma, Healthy, Meningioma, and Pituitary.  \n",
    "2. **⚡ Improving Early Diagnosis** of brain tumors by identifying patterns in MRI scans that distinguish between tumor types and healthy scans.  \n",
    "3. **📈 Enhancing Diagnostic Accuracy** to assist healthcare professionals in making timely and tion in healthcare systems.  \n",
    "\n",
    "This project has the potential to **save lives** by supporting early and accurate tumor diagnosis, thereby improving treatment outcomes. 🌟"
   ]
  },
  {
   "cell_type": "markdown",
   "metadata": {},
   "source": [
    "### 2. 🔄 Data Preprocessing:"
   ]
  },
  {
   "cell_type": "code",
   "execution_count": 163,
   "metadata": {},
   "outputs": [],
   "source": [
    "# Параметры\n",
    "random.seed(42)\n",
    "BATCH_SIZE = 2\n",
    "IMAGE_SIZE = (224, 224)\n",
    "dataset_path = \"./dataset\"\n",
    "classes = [\"glioma\", \"healthy\", \"meningioma\", \"pituitary\"]"
   ]
  },
  {
   "cell_type": "code",
   "execution_count": 137,
   "metadata": {},
   "outputs": [],
   "source": [
    "# # Функция для разделения данных\n",
    "# def split_data():\n",
    "#     train_data = []\n",
    "#     val_data = []\n",
    "#     test_data = []\n",
    "\n",
    "#     for cls in classes:\n",
    "#         class_dir = os.path.join(dataset_path, cls)\n",
    "#         images = os.listdir(class_dir)\n",
    "\n",
    "#         # Разделение на train, validation, test\n",
    "#         num_images = len(images)\n",
    "#         train_split = int(num_images * 0.8)\n",
    "#         val_split = int(num_images * 0.9)\n",
    "\n",
    "#         train_images = images[:train_split]\n",
    "#         val_images = images[train_split:val_split]\n",
    "#         test_images = images[val_split:]\n",
    "\n",
    "#         train_data.extend([(os.path.join(class_dir, img), cls) for img in train_images])\n",
    "#         val_data.extend([(os.path.join(class_dir, img), cls) for img in val_images])\n",
    "#         test_data.extend([(os.path.join(class_dir, img), cls) for img in test_images])\n",
    "\n",
    "#     return train_data, val_data, test_data\n",
    "\n",
    "# # Подготовка датасета для TensorFlow\n",
    "# def prepare_dataset(data):\n",
    "#     file_paths, labels = zip(*data)\n",
    "#     labels = tf.keras.utils.to_categorical([classes.index(label) for label in labels], num_classes=len(classes))\n",
    "\n",
    "#     dataset = tf.data.Dataset.from_tensor_slices((list(file_paths), labels))\n",
    "\n",
    "#     # Преобразование изображений\n",
    "#     dataset = dataset.map(lambda x, y: (tf.image.resize(tf.image.decode_jpeg(tf.io.read_file(x), channels=3), IMAGE_SIZE), y))\n",
    "#     dataset = dataset.batch(BATCH_SIZE).prefetch(buffer_size=tf.data.AUTOTUNE)\n",
    "#     return dataset\n",
    "\n",
    "# # Разделение данных\n",
    "# train_data, val_data, test_data = split_data()\n",
    "\n",
    "# # Подготовка наборов данных\n",
    "# train_ds = prepare_dataset(train_data)\n",
    "# val_ds = prepare_dataset(val_data)\n",
    "# test_ds = prepare_dataset(test_data)\n"
   ]
  },
  {
   "cell_type": "code",
   "execution_count": 167,
   "metadata": {},
   "outputs": [],
   "source": [
    "def split_data():\n",
    "    train_data = []\n",
    "    val_data = []\n",
    "    test_data = []\n",
    "\n",
    "    for cls in classes:\n",
    "        class_dir = os.path.join(dataset_path, cls)\n",
    "        images = os.listdir(class_dir)\n",
    "\n",
    "        # Разделение на train, validation, test\n",
    "        num_images = len(images)\n",
    "        train_split = int(num_images * 0.8)\n",
    "        val_split = int(num_images * 0.9)\n",
    "\n",
    "        train_images = images[:train_split]\n",
    "        val_images = images[train_split:val_split]\n",
    "        test_images = images[val_split:]\n",
    "\n",
    "        train_data.extend([(os.path.join(class_dir, img), cls) for img in train_images])\n",
    "        val_data.extend([(os.path.join(class_dir, img), cls) for img in val_images])\n",
    "        test_data.extend([(os.path.join(class_dir, img), cls) for img in test_images])\n",
    "\n",
    "    return train_data, val_data, test_data\n",
    "\n",
    "# Функция для обработки изображений (с изменением размера, нормализацией и аугментацией)\n",
    "def prepare_dataset(data, is_train=False):\n",
    "    file_paths, labels = zip(*data)\n",
    "    labels = tf.keras.utils.to_categorical([classes.index(label) for label in labels], num_classes=len(classes))\n",
    "\n",
    "    dataset = tf.data.Dataset.from_tensor_slices((list(file_paths), labels))\n",
    "\n",
    "    # Преобразование изображений с аугментацией для тренировочных данных\n",
    "    def process_image(file_path, label):\n",
    "        image = tf.image.decode_jpeg(tf.io.read_file(file_path), channels=3)\n",
    "        image = tf.image.resize(image, IMAGE_SIZE)\n",
    "\n",
    "        # Нормализация изображений (диапазон [0, 1])\n",
    "        image = image / 255.0\n",
    "\n",
    "        # Аугментация для тренировочных данных\n",
    "        if is_train:\n",
    "            image = tf.image.random_flip_left_right(image)\n",
    "            image = tf.image.random_flip_up_down(image)\n",
    "\n",
    "        # Нормализация изображения: (среднее, стандартное отклонение)\n",
    "        mean = [0.5, 0.5, 0.5]\n",
    "        std = [0.5, 0.5, 0.5]\n",
    "        image = (image - mean) / std\n",
    "\n",
    "        return image, label\n",
    "\n",
    "    dataset = dataset.map(process_image)\n",
    "\n",
    "    dataset = dataset.batch(BATCH_SIZE).prefetch(buffer_size=tf.data.AUTOTUNE)\n",
    "    return dataset\n",
    "\n",
    "# Функция для визуализации изображений\n",
    "def display_image_from_dataset(dataset):\n",
    "    for image_batch, label_batch in dataset.take(1):  # Берём один батч\n",
    "        image = image_batch[0].numpy()  # Получаем первое изображение из батча\n",
    "        label = label_batch[0].numpy()  # Получаем метку первого изображения из батча\n",
    "\n",
    "        # Декодируем метку из one-hot в индекс\n",
    "        class_index = tf.argmax(label).numpy()\n",
    "        class_name = classes[class_index]  # Сопоставляем индекс с именем класса\n",
    "\n",
    "        # Обратная нормализация изображения\n",
    "        mean = [0.5, 0.5, 0.5]\n",
    "        std = [0.5, 0.5, 0.5]\n",
    "        image = image * std + mean  # Обратная нормализация\n",
    "        image = (image * 255).astype(\"uint8\")  # Преобразование в [0, 255]\n",
    "\n",
    "        # Отображаем изображение\n",
    "        plt.imshow(image)\n",
    "        plt.title(f\"Class: {class_name}\")\n",
    "        plt.axis(\"off\")\n",
    "        plt.show()\n",
    "        break  # Прерываем, чтобы взять только один батч\n",
    "\n",
    "# Разделение данных\n",
    "train_data, val_data, test_data = split_data()\n",
    "\n",
    "# Подготовка наборов данных\n",
    "train_ds = prepare_dataset(train_data, is_train=True)\n",
    "val_ds = prepare_dataset(val_data, is_train=False)\n",
    "test_ds = prepare_dataset(test_data, is_train=False)\n",
    "\n"
   ]
  },
  {
   "cell_type": "code",
   "execution_count": 177,
   "metadata": {},
   "outputs": [
    {
     "name": "stdout",
     "output_type": "stream",
     "text": [
      "<_PrefetchDataset element_spec=(TensorSpec(shape=(None, 224, 224, 3), dtype=tf.float32, name=None), TensorSpec(shape=(None, 4), dtype=tf.float64, name=None))>\n"
     ]
    }
   ],
   "source": [
    "print(train_ds)"
   ]
  },
  {
   "cell_type": "code",
   "execution_count": 175,
   "metadata": {},
   "outputs": [
    {
     "name": "stdout",
     "output_type": "stream",
     "text": [
      "Image tensor shape: (224, 224, 3)\n",
      "Image tensor values (flattened): [-1. -1. -1. ... -1. -1. -1.]\n",
      "Pixel values as bytes: b'\\xff\\xd8\\xff\\xe0\\x00\\x10JFIF\\x00\\x01\\x01\\x01\\x01,\\x01,\\x00\\x00\\xff\\xdb\\x00C\\x00\\x02\\x01\\x01\\x01\\x01\\x01\\x02\\x01\\x01\\x01\\x02\\x02\\x02\\x02\\x02\\x04\\x03\\x02\\x02\\x02\\x02\\x05\\x04\\x04\\x03\\x04\\x06\\x05\\x06\\x06\\x06\\x05\\x06\\x06\\x06\\x07\\t\\x08\\x06\\x07\\t\\x07\\x06\\x06\\x08\\x0b\\x08\\t\\n\\n\\n\\n\\n\\x06\\x08\\x0b\\x0c\\x0b\\n\\x0c\\t\\n\\n\\n\\xff\\xdb\\x00C\\x01\\x02\\x02\\x02\\x02\\x02\\x02\\x05\\x03\\x03\\x05\\n\\x07\\x06\\x07\\n\\n\\n\\n\\n\\n\\n\\n\\n\\n\\n\\n\\n\\n\\n\\n\\n\\n\\n\\n\\n\\n\\n\\n\\n\\n\\n\\n\\n\\n\\n\\n\\n\\n\\n\\n\\n\\n\\n\\n\\n\\n\\n\\n\\n\\n\\n\\n\\n\\n\\xff\\xc0\\x00\\x11\\x08\\x00\\xe0\\x00\\xe0\\x03\\x01\"\\x00\\x02\\x11\\x01\\x03\\x11\\x01\\xff\\xc4\\x00\\x1f\\x00\\x00\\x01\\x05\\x01\\x01\\x01\\x01\\x01\\x01\\x00\\x00\\x00\\x00\\x00\\x00\\x00\\x00\\x01\\x02\\x03\\x04\\x05\\x06\\x07\\x08\\t\\n\\x0b\\xff\\xc4\\x00\\xb5\\x10\\x00\\x02\\x01\\x03\\x03\\x02\\x04\\x03\\x05\\x05\\x04\\x04\\x00\\x00\\x01}\\x01\\x02\\x03\\x00\\x04\\x11\\x05\\x12!1A\\x06\\x13Qa\\x07\"q\\x142\\x81\\x91\\xa1\\x08#B\\xb1\\xc1\\x15R\\xd1\\xf0$3br\\x82\\t\\n\\x16\\x17\\x18\\x19\\x1a%&\\'()*456789:CDEFGHIJSTUVWXYZcdefghijstuvwxyz\\x83\\x84\\x85\\x86\\x87\\x88\\x89\\x8a\\x92\\x93\\x94\\x95\\x96\\x97\\x98\\x99\\x9a\\xa2\\xa3\\xa4\\xa5\\xa6\\xa7\\xa8\\xa9\\xaa\\xb2\\xb3\\xb4\\xb5\\xb6\\xb7\\xb8\\xb9\\xba\\xc2\\xc3\\xc4\\xc5\\xc6\\xc7\\xc8\\xc9\\xca\\xd2\\xd3\\xd4\\xd5\\xd6\\xd7\\xd8\\xd9\\xda\\xe1\\xe2\\xe3\\xe4\\xe5\\xe6\\xe7\\xe8\\xe9\\xea\\xf1\\xf2\\xf3\\xf4\\xf5\\xf6\\xf7\\xf8\\xf9\\xfa\\xff\\xc4\\x00\\x1f\\x01\\x00\\x03\\x01\\x01\\x01\\x01\\x01\\x01\\x01\\x01\\x01\\x00\\x00\\x00\\x00\\x00\\x00\\x01\\x02\\x03\\x04\\x05\\x06\\x07\\x08\\t\\n\\x0b\\xff\\xc4\\x00\\xb5\\x11\\x00\\x02\\x01\\x02\\x04\\x04\\x03\\x04\\x07\\x05\\x04\\x04\\x00\\x01\\x02w\\x00\\x01\\x02\\x03\\x11\\x04\\x05!1\\x06\\x12AQ\\x07aq\\x13\"2\\x81\\x08\\x14B\\x91\\xa1\\xb1\\xc1\\t#3R\\xf0\\x15br\\xd1\\n\\x16$4\\xe1%\\xf1\\x17\\x18\\x19\\x1a&\\'()*56789:CDEFGHIJSTUVWXYZcdefghijstuvwxyz\\x82\\x83\\x84\\x85\\x86\\x87\\x88\\x89\\x8a\\x92\\x93\\x94\\x95\\x96\\x97\\x98\\x99\\x9a\\xa2\\xa3\\xa4\\xa5\\xa6\\xa7\\xa8\\xa9\\xaa\\xb2\\xb3\\xb4\\xb5\\xb6\\xb7\\xb8\\xb9\\xba\\xc2\\xc3\\xc4\\xc5\\xc6\\xc7\\xc8\\xc9\\xca\\xd2\\xd3\\xd4\\xd5\\xd6\\xd7\\xd8\\xd9\\xda\\xe2\\xe3\\xe4\\xe5\\xe6\\xe7\\xe8\\xe9\\xea\\xf2\\xf3\\xf4\\xf5\\xf6\\xf7\\xf8\\xf9\\xfa\\xff\\xda\\x00\\x0c\\x03\\x01\\x00\\x02\\x11\\x03\\x11\\x00?\\x00\\xfe\\x7f\\xe8\\xa2\\x8a\\x00(\\xa2\\x8a\\x00(\\xa2\\x8a\\x00(\\xa2\\x8a\\x00(\\xa2\\x8a\\x00(\\xa2\\x8a\\x00(\\xa2\\x8a\\x00(\\xa2\\x8a\\x00(\\xa2\\x8a\\x00(\\xa2\\x8a\\x00(\\xa2\\x8a\\x00(\\xa2\\x8a\\x00(\\xa2\\x8a\\x00(\\xa2\\x8a\\x00(\\xa2\\x8a\\x00(\\xa2\\x8a\\x00(\\xa2\\x8a\\x00(\\xa2\\x8a\\x00(\\xa9-\\xedn.\\xdc\\xc7o\\x11b\\x14\\xb1\\xc7`:\\x93\\xe8)\\xb3,i!X\\xa5\\xde\\xa3\\x18m\\xb8\\xcd\\x006\\x8a(\\xa0\\x02\\x8a(\\xa0\\x02\\x8a\\x9a\\xc6\\xca\\xe2\\xfaVKd\\xdcc\\x89\\xe5a\\xfe\\xca\\xa9b\\x7f!P\\xd0\\x01E\\x14P\\x01E\\x14P\\x01E\\x14P\\x01E\\x14P\\x01E\\x14P\\x01E\\x14P\\x02\\xbc\\x8f&7\\xb9l\\x0c\\x0c\\x9c\\xe0RQE\\x00\\x14QE\\x00\\x14QJ\\xaa\\xcep\\xaaI\\xc6p\\x05\\x00%jxgL\\x83U\\xd6l\\xf4\\xadN\\xfe\\xde\\xce\\x07wsq1\\x8dv\\xfc\\x99\\xe4\\xb7c\\xb4\\x01\\xbb\\x8e}\\xcdS\\xd4\\xf4\\xf94\\xbb\\xb3g,\\xa8\\xec#F&7\\x0c>d\\r\\x8c\\x82A\\xc6q\\xf8Uz\\x00\\xda\\xd7\\xf5\\x8bH :\\x16\\x8a0\\x8a\\xed\\xf6\\xab\\xa1 v\\xb99\\x1d[\\x1c\\x80A\\xe9\\xc1\\xcf\\xe3X\\xb4Q@\\x05\\x14Q@\\x05\\x14U\\x8d*\\xd2\\x0b\\xfdR\\xda\\xc6\\xea\\xe1\\xa2\\x8ak\\x84\\x8eIR=\\xe5\\x14\\xb0\\x05\\x82\\xe4d\\x81\\xce23\\xeb@\\x1d\\x07\\x86,\\xec\\xf4\\xff\\x00\\x87~\"\\xf1=\\xcd\\xea\\xa4\\xf3\\x1b}6\\xc2\\x1c\\x02d.\\xfel\\xac;\\x8d\\xa9\\x10\\x19\\xe9\\xfb\\xccw\\xae^\\xafj\\xc9c\\r\\xb5\\xbai\\xba\\x94\\x92\\xc57\\x997\\xd9\\xdd\\xb3\\xf6\\x7f\\xde2*\\xb68\\xdeU\\x15\\x89\\x1ca\\x97\\xd2\\xa8\\xd0\\x01E\\x14P\\x01E\\x14P\\x01EMo=\\xb4P\\xcb\\r\\xc5\\x8a\\xcad_\\xdd\\xcb\\xbd\\x95\\xa2#\\xb8\\xc1\\xc1\\x07\\xb8 \\xf1\\xd3\\x07\\x9ae\\xc4\\x13Z\\xce\\xf6\\xd7\\x08VH\\xdc\\xab\\xa9\\xecA\\xc1\\x14\\x00\\xca(\\xa2\\x80\\n(\\xa2\\x80\\n(\\xa2\\x80\\n(\\xa2\\x80\\n(\\xa2\\x80\\n\\xeb~\\x1eh:\"\\xda?\\x8b<S\\xa7\\x1b\\xab$\\x92H\\x924\\xbe\\xf2J\\xba\\xa2\\xb6\\xe3\\x8f\\x9b\\x03r\\xf4=N1\\\\\\x95t\\xde(\\xbam/\\xc3\\x1a.\\x9b\\xa5k\\xb67\\x16\\xf76&\\xe2\\xe1-\\x13d\\x91L\\xc5\\x91\\xe3\\x99s\\x8d\\xc1B\\xe1\\xbf\\x89v\\x9e\\xb9\\x00\\x03\\x9f\\xd4/\\xee\\xb5K\\xe9u\\x1b\\xd9K\\xcb3\\x96vbO\\'\\xebP\\xd1E\\x00\\x14QE\\x00\\x14QE\\x00\\\\\\xd7ll4\\xeb\\xf1o\\xa6_5\\xccMm\\x04\\x9ec\\xc7\\xb0\\x86x\\x91\\xd91\\x93\\xf7Y\\x8a\\xe7\\xbe\\xdc\\xf7\\xaa\\xf6\\xb3\\x18\\'\\x0f\\xe74`\\x82\\xae\\xc8\\xa0\\x90\\xac\\n\\xb7\\x04\\x8c\\xf0Oz\\x8e\\x8a\\x00\\xb2\\xba\\\\\\xa7I:\\xc3\\xcd\\x1aFnD\\x08\\xac\\xdf3\\x9d\\xa5\\x98\\x81\\xe8\\xbf.O\\xfbkP\\xb4\\r\\x18\"V\\x08\\xc1A\\xd8\\xc0\\xe4\\xf3\\xd3\\xa7\\xe3\\xf4\\xad\\x8d?N\\xd3u\\x8d\\re\\x9a\\xfe+il\\xb2<\\xb9\\x18\\xed\\x99K\\x12\\xcep\\x0e\\xd3\\xf3*\\xe7\\xb8\\x00\\x01\\x9a\\xcf\\xd5n\\xacn\\xfc\\x87\\xb5\\xf3\\x8c\\x82 \\'ip\\x06\\xefE\\x03<\\x0ey\\xcf#\\x1c\\x0cr\\x01R\\x8a(\\xa0\\x02\\x8a(\\xa0\\x02\\xa6\\xb1\\xb4\\xb8\\xd4n\\xa2\\xb0\\xb7Vf\\x91\\xf0\\xaa\\xaa[\\x1e\\xa7\\x03\\'\\xa0\\xed\\xe9P\\xd3\\xa2y#p\\xf19V\\x1c\\x82\\x0e1@\\r\\xa2\\xadj\\xf6Q\\xe9\\xf7\\x9fg\\x86B\\xca\\xd1$\\x88Xr\\x15\\xd48\\x07\\xdc\\x06\\x00\\xfb\\xd5Z\\x00(\\xa2\\x8a\\x00(\\xa2\\x8a\\x00(\\xa2\\x8a\\x00(\\xa2\\x8a\\x00)\\xf3\\xca\\xf30/+>\\xd4U\\x05\\xbb\\x00:}\\x052\\x8a\\x00(\\xa2\\x8a\\x00(\\xa2\\x8a\\x00+C\\xc2\\xfa\\x8e\\x93\\xa3k\\xb6\\xba\\xb6\\xb9\\xa4.\\xa3i\\x04\\xc0\\xdci\\xe6_,\\xce\\x989\\x1b\\x8a0_\\xae\\t\\xfeu\\x9fE\\x00\\x15b\\xea\\xc5m\\xed\\xa2\\xb9\\x8a\\xed&\\x0e\\xa3\\xcc\\x11\\xab~\\xe9\\x8f!I \\x0c\\xe3\\xd3\\xd0\\xd5z\\xb4\\xfa\\xbd\\xd3h\\xe9\\xa2\"\\xaa@\\xb3\\x99\\x9c.s#\\xe3\\x00\\xb6O`H\\x18\\xc7S\\xeb@\\x15h\\xae\\x8fG\\x1f\\x08\\xdf\\xc0\\xed\\xfd\\xbe\\xde#\\x8f\\xc4\\x89\\xab\\x86O\\xb1\\xad\\xbb\\xd8\\xcfa\\xe5\\xf2\\x87q\\x12E?\\x98>\\xff\\x00\\xce\\xa5[\\xee\\x02\\xbf7=1\\x85\\xa6v\\xb7FX\\xcb\\x1d\\x8a\\xef\\xb8\\x81\\xd8\\x12\\x00\\xc9\\xf7\\xc0\\xfaP\\x03h\\xa2\\x8a\\x00(\\xa2\\x8a\\x00(\\xa2\\x8a\\x00\\xdd\\xbf\\xd5\\xed5\\xbf\\x0f\\\\K2Z\\xda\\xdcG4\\x1e]\\xbc0\\x80$D\\x8c\\xa6A9r\\xc4\\x92\\xccX\\x90s\\xc7LV\\x15u~\\x0e\\x9b\\\\\\x9b\\xc1Z\\xde\\x8da\\x03\\xa5\\x84\\xf1\\xfd\\xa3U\\x92!\\x97\\xb8Xp\\xd1\\xc4\\t\\x04\"\\xab1v<d\\x0cv\\x00\\xf2\\x94\\x00QE\\x14\\x00QE\\x14\\x00QE\\x14\\x00QE\\x14\\x00QE\\x14\\x00T\\xd6\\x1f`\\xfbZ\\x8dO\\xcd\\xf2\\x0ew\\xf9$\\x06\\x1c\\x1c\\x1eA\\xef\\x8c\\xfbT4P\\x07M\\xe2I~\\x18\\xc16\\x8b\\'\\x86\\xeco%\\x8c\\xd8\\xdb\\xbe\\xb3\\x1c\\xd3\\xf2\\'\\x00\\xac\\xb1\\xa9\\x18\\xf9X\\x8d\\xc0\\x8e\\x81\\x86=\\xb9\\xd9&R\\xf2,\\x08R7l\\x84-\\x92\\x06x\\x19\\xef\\xf5\\xa8\\xe8\\xa0\\x05m\\xbf\\xc2\\x0f\\xe2i(\\xa2\\x80\\n(\\xa2\\x80\\n(\\xa2\\x80\\n\\x92\\xd5m^\\xe64\\xbd\\x9aH\\xe12\\x014\\x91F\\x1d\\x95s\\xc9\\nJ\\x868\\xe8\\t\\x19\\xf5\\x1dj:(\\x03\\xa9\\xf1\\xcf\\xc2\\xeb\\xcf\\n\\xe9\\x91x\\xb7@\\xd7-\\xbcA\\xe1\\xbb\\x9b\\x8f\"\\xdf\\xc4\\x1al2\\xacK>\\x0b}\\x9ed\\x95\\x15\\xe0\\x9fh\\'c\\x0c0R\\xc8\\xd2(\\xdd\\\\\\xb1\\x04\\x1c\\x11\\x8f\\xadw\\x7f\\x00\\xff\\x00h\\xdf\\x89\\xdf\\xb3\\x8f\\x88\\xef5\\xaf\\x87\\xf7\\xb6S\\xd8\\xeb\\x16F\\xc3\\xc4\\xde\\x1a\\xd7,#\\xbd\\xd2\\xb5\\xeb\\x12Ak[\\xcbYAI\\xa3\\xc8\\x0c\\xad\\xc4\\x91:\\xac\\xb1<r\\xa2H\\xbc\\xd7\\x8d/\\xfc!\\xabk\\xb3\\xea\\xde\\x0b\\xd0\\'\\xd2,\\xeeei\\x13H\\x96\\xe8\\xdc-\\x98\\'\"4\\x99\\xb0\\xd2 \\xe7\\x1b\\xc6\\xe00\\x0b9\\xcb\\x90\\x0c\\x9a(\\xa2\\x80=\\x03\\xe1\\x9e\\x8d\\xa8j\\x9f\\r\\xbcM.\\x8fwoo4\\x16\\x92\\xc9w-\\xd5\\xca.\\xebuE,\\x91\\xa36]\\x8f}\\x8aH\\x189\\xaf?\\xafx\\xfd\\x83d\\xf0\\xc6\\xbd\\xe3\\xcb\\xff\\x00\\x85Z\\xaaZ\\xae\\xa3\\xe2\\xb4\\x86\\xcfL\\xb8\\xbe\\xb4Yb\\x88+\\x99%\\xc1\\x08dW*\\xb8\\x1b\\n\\xee\\xc9\\x04\\x8e+\\xcd~;|<\\x7f\\x85\\xff\\x00\\x15u\\x8f\\t\\xa5\\xbf\\x97k\\x1d\\xdbK\\xa7\\r\\xac\\xb9\\xb6rZ>\\x1d\\x99\\x86\\x17\\x03\\x0cI\\xe3\\x92z\\xd0\\x07#E\\x14P\\x01E\\x14P\\x01\\x92:\\x1a(\\xa2\\x80\\n(\\xa2\\x80\\n(\\xa2\\x80%\\x8a\\xd2Ym%\\xbcVP\\x90\\xb2\\x86\\x04\\xf2Kg\\x18\\xfc\\x8dEOc\\x07\\x92\\x8a\\x8a\\xdefIv\\'\\x8cq\\x80\\x07\\xe7\\xcf\\xbfN2Y@\\x05\\x14Q@\\x05\\x14Q@\\x05\\x15\\xa3\\xa4\\xf8G\\xc5:\\xf6\\x97}\\xad\\xe8\\x9e\\x1d\\xbd\\xbb\\xb3\\xd3\"\\xf3u\\x0b\\x9b{ft\\xb6L\\x81\\xb9\\xc8\\x18Q\\x929>\\xb5\\x9d@\\x05\\x14Q@\\x05\\x14Q@\\x05\\x14Q@\\x05\\x14Q@\\x1a>\\x0f\\xf15\\xef\\x82\\xfcY\\xa6x\\xbfMEk\\x8d/P\\x86\\xee\\x14\\x7f\\xba\\xcd\\x1b\\x87\\x00\\xfb\\x121^\\xbb\\xfbpi:}\\xa7\\x8b|;\\xaci\\x9a\\x8c7q\\xea\\x1a\\x02\\xca\\xf7\\x11@\\xc8w\\x19\\x19\\x82\\x1c\\x93\\x9d\\xa8\\xe9\\xfcD\\xf3\\xce+\\xc4k\\xdf\\xbfi\\xdb\\x1d\\x1a\\xeb\\xf6s\\xf8]\\xe2I\\x84\\xcf\\xac\\x9d;\\xc8\\xb8ynF\\xd5\\x83\\xcbV\\x8dQ<\\xc7\\xdc\\xbf\\xed\\xe1q\\x80\\x089\\xe0\\x03\\xc0h\\xa2\\x8a\\x00(\\xa2\\x8a\\x00(\\xa2\\x8a\\x00(\\xa2\\x8a\\x00(\\xa2\\x8a\\x00(\\xa2\\x8a\\x00(\\xa2\\x8a\\x00(\\xa2\\x8a\\x00\\x92\\xd6\\xf2\\xee\\xc6_>\\xca\\xeaHd\\xc1\\x1b\\xe2r\\xa7\\x07\\xa8\\xc8\\xa8\\xe8\\xa2\\x80\\n(\\xa0\\x8c\\x1cP\\x01E\\x14P\\x01E\\x14P\\x01E\\x14P\\x01^\\xcf\\xf1\\xba\\xcfO\\x97\\xf6d\\xf8c\\xa9\\xdb\\xdaGo\"Cs\\x16^\\x17I.r\\xe7s\\x8c\\x8d\\xac\\x8a\\xc9\\x8c\\xe79n85\\xe3\\x15\\xec_\\xb4\\x16\\xa5\\x12\\xfc\\x0f\\xf8U\\xe1\\x97\\xd2nc\\x92\\xd7@\\x9ax\\xaf\\xa4A\\xe5\\xdc$\\xd2\\x97*2\\xa1\\x94\\xa3q\\x80J\\xb0 \\xe7<P\\x07\\x8e\\xd1E\\x14\\x00QE\\x14\\x00Q\\x92z\\x9a(\\xa0\\x02\\x8a(\\xa0\\x02\\x8a(\\xa0\\x02\\x8a(\\xa0\\x02\\x8a(\\xa0\\x02\\x8a8\\xa2\\x80\\n(\\xa2\\x80\\n(\\xa2\\x80\\n(\\xa2\\x80\\n(\\xa2\\x80\\n(\\xa2\\x804<\\'\\xa5[k\\xbe)\\xd3tK\\xcb\\xc8-\\xe1\\xbc\\xd4!\\x82[\\x8b\\x9b\\x81\\x0cq+\\xb8R\\xce\\xe7!\\x14\\x03\\x92\\xc7\\x80\\x06k\\xd7\\x7fn\\rN\\xc2\\x0f\\x88V\\xde\\x08\\xd2\\xa6\\x9a\\xea\\xcfI\\x89\\xcd\\x95\\xec\\xb7\\xcf(\\x91$o\\x9bj\\x16`\\x80\\xb2\\x92\\x08#p\\xdb\\xc0\\x1dq\\x7fc\\x9f\\x0b\\xf8W\\xc6_\\x1b\\xad|7\\xe3e\\xb0]2\\xe6\\xc2\\xe1n\\xaeu\\x0b?\\xb4-\\xa8\\xd9\\xc4\\xcb\\x1f\\xf12\\x9c\\x1cdq\\x93\\x91\\x8c\\xd79\\xf1\\xeb^\\x9f\\xc4?\\x16\\xf5\\xbb\\xb9\\xae\\x84\\xcb\\x05\\xd9\\xb6\\x86U\\x91\\xd8<q~\\xedXnf \\x10\\xbb\\xb1\\x92\\x06x\\xa0\\x0e>\\x8a(\\xa0\\x02\\x8a(\\xa0\\x02\\x8a(\\xa0\\x02\\x8a(\\xa0\\x02\\x8a(\\xa0\\x00\\x1c\\x1c\\x8e\\xde\\xa2\\x80\\t8\\x03?J*[;\\xcb\\xad>\\xe9/l\\xa7x\\xa5\\x8d\\xb2\\x8e\\x8cA\\x1f\\x88\\xa0\\x08\\xa8\\xab\\xda\\x8e\\x9fe\\x1d\\x85\\xb6\\xa9e\\xa8\\xc0\\xe6\\xe9\\xa5\\xdfb\\x8c\\xc6K]\\xac0\\x1b \\x02\\x08 \\x82\\t\\xe8s\\x8cU\\x1a\\x00(\\xa2\\x8a\\x00(\\xa2\\x8a\\x00(\\xa2\\x8a\\x00(\\xa2\\x8a\\x00(\\xa2\\x8a\\x00(\\xa2\\xaeh\\x1a%\\xf7\\x88\\xf5\\x884]:-\\xf2\\xce\\xc4\\x01\\xb9W\\n\\x01,\\xc4\\xb1\\x00\\x00\\xa0\\x92I\\x00\\x01\\xc9\\x14\\x01\\xe9\\xdf\\xb3N\\xaf\\xff\\x00\\x08\\xac:\\x8e\\xb76\\x99s4\\x12\\xbc\\x7fi\\x928\\x19\\x04q\\xc5\\x97R\\xb7(s\\x0b\\x17\\xda\\x088R\\x079\\xed\\xe6^%\\xd5n5\\xdf\\x11_\\xebwr;\\xcby{,\\xf2;\\xb8ffw,I#\\x82y\\xea8\\xae\\xf7\\xe2\\xc7\\x8b<!\\xa3\\xe8\\xf6^\\t\\xf0\\x16\\xbb\\x1e\\xa2\\xf6\\xf6\\x91\\xa5\\xd6\\xabi\\xf6\\x80\\x01PF\\xc5y[$`\\xe0\\x84U\\x8f\\x8e3\\xdb\\xcdh\\x00\\xa2\\x8a(\\x00\\xa2\\x8a(\\x00\\xa5\\xf3\\x1fg\\x97\\xbc\\xed\\xcev\\xe7\\x8c\\xd2Q@\\x05\\x14Q@\\x05\\x14Q@\\x05\\x14Q@\\x1b\\x1e\\x18\\xf1\\x8d\\xcf\\x86\\xadn\\xb4\\xe1\\xa3\\xe9\\x97\\x96\\xf7\\xa1D\\xcb\\x7f\\xa7\\xa4\\xac\\x84\\x1e\\x19\\x1f\\x87C\\x82A\\x01\\x80 \\x9c\\x83\\xc67\\xa6\\xf0\\xe7\\x82<U\\xa2>\\xadk\\xe3\\r:\\xc7T\\x92\\xeb1\\xdbKn\\xd6\\xe8\\xc8p<\\xbf.0\\xea\\x84\\x1e\\x8c\\x0e\\x0ey\\xee\\xd5\\xc4\\xd3\\xa2\\x96X$Y\\xa0\\x91\\x91\\xd4\\xe5]\\x1b\\x04\\x1fc@\\x0e\\xbc\\xb4\\x9e\\xc2\\xee[\\x1b\\xa4\\x0b,24r(`p\\xc0\\xe0\\x8c\\x8e\\x0f>\\x95\\x1d[\\xb1\\x93Ko6MYg\\x9aGR\\xb1m\\x9bb\\xa3\\x1e\\x8e\\xe7k\\x16\\x03\\xfb\\xa0\\x02\\x7f\\xbc1\\x83\\xb2\\xdf\\x0b\\xbcQw\\xe1\\xd8<U\\xe1\\x9bI\\xb5\\x9b)\\x16O\\xb4\\xc9\\xa6\\xd9N\\xe6\\xcd\\x90\\x02\\xcb7\\xc9\\x84\\xe3\\x90rA\\x03<P\\x077E>H\\'\\x85Q\\xe5\\x85\\x95d]\\xd1\\xb3.\\x03\\x0c\\xe3#\\xd4d\\x11\\xf8S(\\x00\\xa2\\x8a(\\x00\\xa2\\x8a(\\x00\\xa2\\x8a(\\x00\\xadO\\x08\\xddiVZ\\xc2\\xddk\\x061\\x12\\xc6\\xfbL\\xb6\\xa2uV\\xdapLl@\\x7fL\\x13\\xc6s\\xce*\\r#\\xc3\\xfa\\xb6\\xb6%\\x97N\\xb22G\\x00\\x06g2*\\x05\\xcfA\\x96 d\\xf3\\x81\\xd7\\xda\\xa2\\xbf\\xb3\\x97J\\xbd{G\\x929\\n\\x0coA\\x959\\x1d\\xb2=\\xfa\\xfeT\\x00\\xddB\\xfa}J\\xf1\\xefn\\x08\\xdc\\xe7\\x85Q\\x85A\\xd0*\\x8e\\xca\\x06\\x00\\x1d\\x80\\x02\\xa1\\xa2\\x8a\\x00(\\xa2\\x8a\\x00(\\xa2\\x8a\\x00(\\xa2\\x8a\\x00(\\xa2\\x8a\\x00(\\xa2\\x8a\\x00(\\xa2\\x8a\\x00(\\xa2\\x8a\\x00*\\xfe\\x8f\\xe2\\xaf\\x14xy\\x1a-\\x03\\xc4\\x97\\xf6*\\xcd\\xb9\\x96\\xce\\xf1\\xe2\\x04\\xe3\\x19;H\\xe7\\x15B\\x8a\\x00\\xd1\\x8f\\xc5\\x1a\\x8f\\xf6t\\xdaE\\xcaC5\\xbc\\xf3,\\xae\\x8f\\n\\x82\\x1cg\\xe6R\\x07\\xcaNy#\\xafz\\xd0\\xd4\\xe3\\xf0\\x8f\\x88\\xed^\\xfbB\\x82m:\\xfc:\\x03a4\\xca\\xf1M\\x9e\\x0b,\\x8cA\\r\\x9eH#\\x1dpz\\n\\xe7\\xa8\\xe9\\xd2\\x80:A\\xf0\\x9f\\xc6\\xd76\\x83Q\\xd1\\xf4\\xf8u+Sv\\x96\\xa2\\xebN\\xbb\\x8eT\\xf3\\xd9w\\x08\\xce\\x0eA\\xc7\\xa8\\x03\\x8e\\xb5\\x83\\xa8\\xe9\\xd7\\xfaE\\xf4\\xban\\xa9g%\\xbd\\xc4-\\xb6XfB\\xac\\xa7\\xd0\\x83N\\xb7\\xd5u\\x0b[y,\\xe1\\xbao&T\\xdb$-\\xf3)\\x19\\xcfC\\xc6s\\xcez\\x8a\\xd2\\xbf\\xf1\\xe6\\xb3\\xa9\\xdcZ\\xdf^[Y\\xb5\\xcd\\x9cA\"\\xba\\x16\\x8a%b\\x00\\n\\xee\\xc3\\x99\\x18\\x000[8\\xc5\\x00b\\xd1]\\x1e\\x95\\xe2\\xed\\x07L\\xb0\\x82\\xc6\\x1f\\x0c\\xdb\\x95\\xca\\xb6\\xa2.\\x01\\x97\\xed\\x9bNUrH1\\x8c\\xf3\\xf2\\xe0\\x9e\\x99\\xab\\x1aG\\x8f|=\\xe1\\xbd^\\xefZ\\xd2|\\x13\\xa7\\\\\\xc9*b\\xda\\x1dN\\xc9f\\x82\"\\xdf|\\x98\\xa4.\\x0e?\\x87\\x04c\\xbeh\\x03\\x97\\x86\\x19\\'\\x99`Lnr\\x02\\xee`\\xa3\\x9fs\\xc0\\xae\\xeb\\xc1_\\xb3\\xaf\\x8f<go\\x1d\\xda\\xbd\\xb5\\x82:\\xb3\\xbcw\\xab0\\x95\\x11H\\x1b\\x8a,l\\xd8=\\x8fC\\x83\\xcdcx\\x93\\xe2D\\xde bb\\xf0\\xa6\\x8dd\\xaf\\x10\\x12\\x8bm=F\\xf9\\x07\\xfc\\xb4\\xe7\\xa3u\\xe8;\\xf7\\xac\\x91\\xe2=e\\x04&\\xda\\xfaXZ\\x05\\xdb\\x14\\x90\\xca\\xca\\xca=\\x01\\xcf\\xca=\\x86\\x07\\xb5\\x00t\\x9e&u\\xf8k\\x11\\xf0\\x9e\\x9c\\x85\\xf5HY\\x96\\xe7VR\\xfb\\x00\\'8\\x80>6\\x91\\x90\\x0b\\xe009\\xc7\\xadq\\xf2\\xcb,\\xf2\\xb4\\xd3H\\xce\\xee\\xc5\\x9d\\xd8\\xe4\\xb1=I=\\xcd\\x13M5\\xc4\\xad=\\xc4\\xac\\xee\\xecY\\xdd\\xdb%\\x89\\xeaI\\xeei\\xb4\\x00QE\\x14\\x00QE\\x14\\x00QE\\x14\\x00R\\xa4\\x92D\\xdb\\xa3r\\xa7\\xd5N)(\\xa0\\x02\\x8a(\\xa0\\x02\\x8a(\\xa0\\x02\\x8a(\\xa0\\x02\\x8a(\\xa0\\x02\\x8a(\\xa0\\x02\\x8a(\\xa0\\x02\\x8a(\\xa0\\x02\\x8a(\\xa0\\x02\\x8a(\\xa0\\x02\\x8a(\\xa0\\x02\\x8a(\\xa0\\x02\\x8a(\\xa0\\x02\\x8a(\\xa0\\x02\\x8a(\\xa0\\x02\\x8a(\\xa0\\x02\\x8a(\\xa0\\x02\\x8a(\\xa0\\x02\\x8a(\\xa0\\x02\\x8a(\\xa0\\x02\\x8a(\\xa0\\x02\\x8a(\\xa0\\x02\\x8a(\\xa0\\x02\\x8a(\\xa0\\x02\\x8a(\\xa0\\x02\\x8a(\\xa0\\x02\\x8a(\\xa0\\x02\\x8a(\\xc1=\\x05\\x00\\x7f\\xff\\xd9'\n",
      "Label tensor: [1. 0. 0. 0.]\n"
     ]
    }
   ],
   "source": [
    "# Получаем один батч из PrefetchDataset\n",
    "for image_batch, label_batch in train_ds.take(1):  # Берём один батч\n",
    "    # Выбираем первое изображение и метку\n",
    "    image_tensor = image_batch[0]  # Первое изображение\n",
    "    label_tensor = label_batch[0]  # Первая метка\n",
    "\n",
    "    # Печатаем значения тензора изображения\n",
    "    print(\"Image tensor shape:\", image_tensor.shape)  # Размерность изображения\n",
    "    print(\"Image tensor values (flattened):\", tf.reshape(image_tensor, [-1]).numpy())  # Плоский список значений\n",
    "\n",
    "    # Если хотите отобразить байты в стиле \"pixel_values\", можно преобразовать тензор в байты\n",
    "    image_bytes = tf.io.encode_jpeg(tf.cast(image_tensor * 255, tf.uint8))  # Конвертация в JPEG\n",
    "    print(\"Pixel values as bytes:\", image_bytes.numpy())  # Байтовое представление\n",
    "\n",
    "    # Для меток\n",
    "    print(\"Label tensor:\", label_tensor.numpy())  # Метка в формате numpy\n",
    "\n",
    "    # Прерываем цикл после одного батча\n",
    "    break\n"
   ]
  },
  {
   "cell_type": "markdown",
   "metadata": {},
   "source": [
    "Здесь видно что изображение в формате RGB, поскольку размер тензора указан как (224, 224, 3). Третий размер 3 указывает на три цветовых канала: Red (красный), Green (зеленый) и Blue (синий), что соответствует формату RGB."
   ]
  },
  {
   "cell_type": "code",
   "execution_count": 168,
   "metadata": {},
   "outputs": [
    {
     "data": {
      "image/png": "[encoded data removed]",
      "text/plain": [
       "<Figure size 640x480 with 1 Axes>"
      ]
     },
     "metadata": {},
     "output_type": "display_data"
    }
   ],
   "source": [
    "# Визуализация примера изображения из тренировочного набора\n",
    "display_image_from_dataset(train_ds)"
   ]
  },
  {
   "cell_type": "code",
   "execution_count": 176,
   "metadata": {},
   "outputs": [],
   "source": [
    "# import matplotlib.pyplot as plt\n",
    "# from PIL import Image\n",
    "# import tensorflow as tf\n",
    "\n",
    "# # Пример для отображения одного изображения из train_ds\n",
    "# for image_batch, label_batch in train_ds.take(1):  # Берём один батч\n",
    "#     image = image_batch[0].numpy()  # Получаем первое изображение из батча\n",
    "#     label = label_batch[0].numpy()  # Получаем метку первого изображения из батча\n",
    "\n",
    "#     # Декодируем метку из one-hot в индекс\n",
    "#     class_index = tf.argmax(label).numpy()\n",
    "#     class_name = classes[class_index]  # Сопоставляем индекс с именем класса\n",
    "\n",
    "#     # Отображаем изображение\n",
    "#     plt.imshow(image.astype(\"uint8\"))  # Преобразуем данные в формат uint8 для отображения\n",
    "#     plt.title(f\"Class: {class_name}\")  # Добавляем название класса в заголовок\n",
    "#     plt.axis('off')  # Убираем оси\n",
    "#     plt.show()\n",
    "#     break  # Прерываем, чтобы взять только один батч\n"
   ]
  },
  {
   "cell_type": "code",
   "execution_count": 149,
   "metadata": {},
   "outputs": [
    {
     "name": "stdout",
     "output_type": "stream",
     "text": [
      "(224, 224, 3) glioma\n"
     ]
    }
   ],
   "source": [
    "# Преобразуем датасет в список для получения первых 5 элементов\n",
    "data = list(train_ds.take(1))  # Возьмём первые 5 батчей\n",
    "for image_batch, label_batch in data:\n",
    "    for i in range(len(image_batch)):  # Проходим по изображениям внутри батча\n",
    "        image = image_batch[i].numpy()  # Извлекаем изображение\n",
    "        label_index = tf.argmax(label_batch[i]).numpy()  # Находим индекс класса\n",
    "        print(image.shape, classes[label_index])  # Печатаем форму изображения и класс\n",
    "        break"
   ]
  },
  {
   "cell_type": "code",
   "execution_count": null,
   "metadata": {},
   "outputs": [
    {
     "name": "stdout",
     "output_type": "stream",
     "text": [
      "(224, 224, 3) glioma\n"
     ]
    }
   ],
   "source": [
    "# # Преобразуем датасет в список для получения первых 5 элементов\n",
    "# data = list(train_ds.take(1))  # Возьмём первые 5 батчей\n",
    "# for image_batch, label_batch in data:\n",
    "#     for i in range(len(image_batch)):  # Проходим по изображениям внутри батча\n",
    "#         image = image_batch[i].numpy()  # Извлекаем изображение\n",
    "#         label_index = tf.argmax(label_batch[i]).numpy()  # Находим индекс класса\n",
    "#         print(image.shape, classes[label_index])  # Печатаем форму изображения и класс\n",
    "#         break"
   ]
  },
  {
   "cell_type": "code",
   "execution_count": 170,
   "metadata": {},
   "outputs": [
    {
     "name": "stdout",
     "output_type": "stream",
     "text": [
      "glioma: 1296 images\n",
      "healthy: 1600 images\n",
      "meningioma: 1316 images\n",
      "pituitary: 1405 images\n"
     ]
    }
   ],
   "source": [
    "from collections import Counter\n",
    "\n",
    "class_counts = Counter([label for _, label in all_images])\n",
    "for cls, count in class_counts.items():\n",
    "    print(f\"{classes[cls]}: {count} images\")"
   ]
  },
  {
   "cell_type": "code",
   "execution_count": 171,
   "metadata": {},
   "outputs": [
    {
     "name": "stdout",
     "output_type": "stream",
     "text": [
      "(224, 224, 3) glioma\n",
      "(224, 224, 3) glioma\n"
     ]
    }
   ],
   "source": [
    "# Печатаем несколько изображений из train_ds, чтобы убедиться, что они перемешаны\n",
    "for image_batch, label_batch in train_ds.take(1):  # Берем один батч\n",
    "    for i in range(len(image_batch)):\n",
    "        image = image_batch[i].numpy()\n",
    "        label_index = tf.argmax(label_batch[i]).numpy()\n",
    "        print(image.shape, classes[label_index])"
   ]
  },
  {
   "cell_type": "code",
   "execution_count": 172,
   "metadata": {},
   "outputs": [
    {
     "name": "stdout",
     "output_type": "stream",
     "text": [
      "(224, 224, 3) pituitary\n",
      "(224, 224, 3) glioma\n",
      "(224, 224, 3) glioma\n",
      "(224, 224, 3) healthy\n",
      "(224, 224, 3) healthy\n"
     ]
    }
   ],
   "source": [
    "import random\n",
    "import numpy as np\n",
    "\n",
    "# Преобразуем датасет в единый список изображений и меток\n",
    "all_images = []\n",
    "for image_batch, label_batch in train_ds:\n",
    "    for i in range(len(image_batch)):\n",
    "        image = image_batch[i].numpy()  # Извлекаем изображение\n",
    "        label_index = tf.argmax(label_batch[i]).numpy()  # Находим индекс класса\n",
    "        all_images.append((image, label_index))  # Сохраняем пару (изображение, класс)\n",
    "\n",
    "# Случайно выбираем 5 изображений\n",
    "random_samples = random.sample(all_images, 5)\n",
    "\n",
    "# Выводим информацию о случайно выбранных изображениях\n",
    "for image, label_index in random_samples:\n",
    "    print(image.shape, classes[label_index])  # Печатаем форму изображения и класс\n"
   ]
  },
  {
   "cell_type": "markdown",
   "metadata": {},
   "source": [
    "### 3. 🧠 Model Selection and Implementation:"
   ]
  },
  {
   "cell_type": "code",
   "execution_count": 30,
   "metadata": {},
   "outputs": [
    {
     "name": "stdout",
     "output_type": "stream",
     "text": [
      "\u001b[1m2809/2809\u001b[0m \u001b[32m━━━━━━━━━━━━━━━━━━━━\u001b[0m\u001b[37m\u001b[0m \u001b[1m1686s\u001b[0m 586ms/step - accuracy: 0.4679 - loss: 1.5587 - val_accuracy: 0.6339 - val_loss: 0.8031\n",
      "\u001b[1m352/352\u001b[0m \u001b[32m━━━━━━━━━━━━━━━━━━━━\u001b[0m\u001b[37m\u001b[0m \u001b[1m39s\u001b[0m 111ms/step - accuracy: 0.6529 - loss: 0.8264\n",
      "Test accuracy: 0.6449\n"
     ]
    }
   ],
   "source": [
    "# Define ResNet50 model components\n",
    "def conv_block(x, filters, kernel_size, strides, padding='same'):\n",
    "    x = Conv2D(filters=filters, kernel_size=kernel_size, strides=strides, padding=padding)(x)\n",
    "    x = BatchNormalization()(x)\n",
    "    x = Activation('relu')(x)\n",
    "    return x\n",
    "\n",
    "def identity_block(x, filters):\n",
    "    shortcut = x\n",
    "    x = conv_block(x, filters=filters, kernel_size=(1, 1), strides=(1, 1))\n",
    "    x = conv_block(x, filters=filters, kernel_size=(3, 3), strides=(1, 1))\n",
    "    x = Conv2D(filters=filters * 4, kernel_size=(1, 1))(x)\n",
    "    x = BatchNormalization()(x)\n",
    "    x = Add()([x, shortcut])\n",
    "    x = Activation('relu')(x)\n",
    "    return x\n",
    "\n",
    "def projection_block(x, filters, strides):\n",
    "    shortcut = x\n",
    "    x = conv_block(x, filters=filters, kernel_size=(1, 1), strides=strides)\n",
    "    x = conv_block(x, filters=filters, kernel_size=(3, 3), strides=(1, 1))\n",
    "    x = Conv2D(filters=filters * 4, kernel_size=(1, 1))(x)\n",
    "    x = BatchNormalization()(x)\n",
    "    shortcut = Conv2D(filters=filters * 4, kernel_size=(1, 1), strides=strides)(shortcut)\n",
    "    shortcut = BatchNormalization()(shortcut)\n",
    "    x = Add()([x, shortcut])\n",
    "    x = Activation('relu')(x)\n",
    "    return x\n",
    "\n",
    "def ResNet50(input_shape=(224, 224, 3), num_classes=4):  # Adjusted num_classes for your dataset\n",
    "    inputs = Input(shape=input_shape)\n",
    "    \n",
    "\n",
    "    # Initial conv layer\n",
    "    x = conv_block(inputs, filters=64, kernel_size=(7, 7), strides=(2, 2), padding='same')\n",
    "    x = MaxPooling2D(pool_size=(3, 3), strides=(2, 2), padding='same')(x)\n",
    "\n",
    "    # Conv block 1\n",
    "    x = projection_block(x, filters=64, strides=(1, 1))\n",
    "    x = identity_block(x, filters=64)\n",
    "    x = identity_block(x, filters=64)\n",
    "\n",
    "    # Conv block 2\n",
    "    x = projection_block(x, filters=128, strides=(2, 2))\n",
    "    x = identity_block(x, filters=128)\n",
    "    x = identity_block(x, filters=128)\n",
    "    x = identity_block(x, filters=128)\n",
    "\n",
    "    # Conv block 3\n",
    "    x = projection_block(x, filters=256, strides=(2, 2))\n",
    "    x = identity_block(x, filters=256)\n",
    "    x = identity_block(x, filters=256)\n",
    "    x = identity_block(x, filters=256)\n",
    "    x = identity_block(x, filters=256)\n",
    "    x = identity_block(x, filters=256)\n",
    "\n",
    "    # Conv block 4\n",
    "    x = projection_block(x, filters=512, strides=(2, 2))\n",
    "    x = identity_block(x, filters=512)\n",
    "    x = identity_block(x, filters=512)\n",
    "\n",
    "    # Global average pooling and dense layer\n",
    "    x = GlobalAveragePooling2D()(x)\n",
    "    outputs = Dense(num_classes, activation='softmax')(x)\n",
    "\n",
    "    model = Model(inputs=inputs, outputs=outputs)\n",
    "    return model\n",
    "\n",
    "# Build and compile the ResNet50 model\n",
    "model = ResNet50(input_shape=(224, 224, 3), num_classes=4)  # Adjusted for 4 classes\n",
    "model.compile(optimizer='adam', loss='categorical_crossentropy', metrics=['accuracy'])\n",
    "\n",
    "# Train the model\n",
    "history = model.fit(train_ds, validation_data=val_ds, epochs=1)\n",
    "\n",
    "# Evaluate the model on the test dataset\n",
    "test_loss, test_acc = model.evaluate(test_ds)\n",
    "print(f\"Test accuracy: {test_acc:.4f}\")"
   ]
  },
  {
   "cell_type": "markdown",
   "metadata": {},
   "source": [
    "### 4. 🏋️‍♂️ Model Training and Evaluation:"
   ]
  },
  {
   "cell_type": "code",
   "execution_count": null,
   "metadata": {},
   "outputs": [],
   "source": [
    "# # Train the model\n",
    "# history = resnet_model.fit(\n",
    "#     train_ds,\n",
    "#     validation_data=validation_ds,\n",
    "#     epochs=10\n",
    "# )\n",
    "\n",
    "# # Evaluate the model\n",
    "# plt.plot(history.history['accuracy'], label='Train Accuracy')\n",
    "# plt.plot(history.history['val_accuracy'], label='Validation Accuracy')\n",
    "# plt.title('Model Accuracy')\n",
    "# plt.xlabel('Epochs')\n",
    "# plt.ylabel('Accuracy')\n",
    "# plt.legend(loc='lower right')\n",
    "# plt.grid()\n",
    "# plt.show()"
   ]
  },
  {
   "cell_type": "markdown",
   "metadata": {},
   "source": [
    "### 5. 💡 Result Analysis:"
   ]
  },
  {
   "cell_type": "code",
   "execution_count": null,
   "metadata": {},
   "outputs": [],
   "source": [
    "# # Test with a sample image\n",
    "# sample_image_path = os.path.join(dataset_path, \"glioma\", \"example.jpg\")  # Replace with an actual image path\n",
    "# image = cv2.imread(sample_image_path)\n",
    "# image_resized = cv2.resize(image, (img_height, img_width))\n",
    "# image = np.expand_dims(image_resized, axis=0)\n",
    "\n",
    "# # Make predictions\n",
    "# predictions = resnet_model.predict(image)\n",
    "# predicted_class = class_names[np.argmax(predictions)]\n",
    "# print(f\"Predicted Class: {predicted_class}\")"
   ]
  }
 ],
 "metadata": {
  "kernelspec": {
   "display_name": "Python 3",
   "language": "python",
   "name": "python3"
  },
  "language_info": {
   "codemirror_mode": {
    "name": "ipython",
    "version": 3
   },
   "file_extension": ".py",
   "mimetype": "text/x-python",
   "name": "python",
   "nbconvert_exporter": "python",
   "pygments_lexer": "ipython3",
   "version": "3.10.10"
  }
 },
 "nbformat": 4,
 "nbformat_minor": 2
}
